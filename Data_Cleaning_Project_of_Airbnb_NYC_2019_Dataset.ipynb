{
  "nbformat": 4,
  "nbformat_minor": 0,
  "metadata": {
    "colab": {
      "provenance": []
    },
    "kernelspec": {
      "name": "python3",
      "display_name": "Python 3"
    },
    "language_info": {
      "name": "python"
    }
  },
  "cells": [
    {
      "cell_type": "markdown",
      "source": [
        " Import Libraries and Load Data"
      ],
      "metadata": {
        "id": "Hla7a0JdhD6b"
      }
    },
    {
      "cell_type": "code",
      "execution_count": 1,
      "metadata": {
        "colab": {
          "base_uri": "https://localhost:8080/"
        },
        "id": "1DVP4TIrYQe2",
        "outputId": "dc11ff46-e582-48ee-d3ce-f7fa28b1c8c2"
      },
      "outputs": [
        {
          "output_type": "stream",
          "name": "stdout",
          "text": [
            "Drive already mounted at /content/drive; to attempt to forcibly remount, call drive.mount(\"/content/drive\", force_remount=True).\n",
            "Initial Dataset Preview:\n",
            "     id                                              name  host_id  \\\n",
            "0  2539                Clean & quiet apt home by the park     2787   \n",
            "1  2595                             Skylit Midtown Castle     2845   \n",
            "2  3647               THE VILLAGE OF HARLEM....NEW YORK !     4632   \n",
            "3  3831                   Cozy Entire Floor of Brownstone     4869   \n",
            "4  5022  Entire Apt: Spacious Studio/Loft by central park     7192   \n",
            "\n",
            "     host_name neighbourhood_group neighbourhood  latitude  longitude  \\\n",
            "0         John            Brooklyn    Kensington  40.64749  -73.97237   \n",
            "1     Jennifer           Manhattan       Midtown  40.75362  -73.98377   \n",
            "2    Elisabeth           Manhattan        Harlem  40.80902  -73.94190   \n",
            "3  LisaRoxanne            Brooklyn  Clinton Hill  40.68514  -73.95976   \n",
            "4        Laura           Manhattan   East Harlem  40.79851  -73.94399   \n",
            "\n",
            "         room_type  price  minimum_nights  number_of_reviews last_review  \\\n",
            "0     Private room    149               1                  9  2018-10-19   \n",
            "1  Entire home/apt    225               1                 45  2019-05-21   \n",
            "2     Private room    150               3                  0         NaN   \n",
            "3  Entire home/apt     89               1                270  2019-07-05   \n",
            "4  Entire home/apt     80              10                  9  2018-11-19   \n",
            "\n",
            "   reviews_per_month  calculated_host_listings_count  availability_365  \n",
            "0               0.21                               6               365  \n",
            "1               0.38                               2               355  \n",
            "2                NaN                               1               365  \n",
            "3               4.64                               1               194  \n",
            "4               0.10                               1                 0  \n"
          ]
        }
      ],
      "source": [
        "# Import necessary libraries\n",
        "import pandas as pd\n",
        "import numpy as np\n",
        "\n",
        "# Mount Google Drive to access the uploaded file (if using Google Colab)\n",
        "from google.colab import drive\n",
        "drive.mount('/content/drive')\n",
        "\n",
        "# Define the path to the dataset (update the path as per your file location)\n",
        "file_path = '/content/drive/MyDrive/AB_NYC_2019.csv'\n",
        "\n",
        "# Load the dataset into a DataFrame\n",
        "df = pd.read_csv(file_path)\n",
        "\n",
        "# Display the first few rows of the dataset\n",
        "print(\"Initial Dataset Preview:\")\n",
        "print(df.head())"
      ]
    },
    {
      "cell_type": "markdown",
      "source": [
        "Check for Missing Data"
      ],
      "metadata": {
        "id": "pXo51PBvhUUR"
      }
    },
    {
      "cell_type": "code",
      "source": [
        "# Check for missing values in each column\n",
        "print(\"\\nMissing Values in Each Column:\")\n",
        "print(df.isnull().sum())\n",
        "\n",
        "# Handle missing values\n",
        "# Option 1: Drop columns with excessive missing values (e.g., 'last_review', 'reviews_per_month')\n",
        "df.drop(['last_review', 'reviews_per_month'], axis=1, inplace=True)\n",
        "\n",
        "# Option 2: Fill missing numeric values with the median (if applicable)\n",
        "numeric_columns = df.select_dtypes(include=['float64', 'int64']).columns\n",
        "for col in numeric_columns:\n",
        "    if df[col].isnull().sum() > 0:\n",
        "        df[col].fillna(df[col].median(), inplace=True)\n",
        "\n",
        "# Verify missing values are handled\n",
        "print(\"\\nMissing Values After Handling:\")\n",
        "print(df.isnull().sum())"
      ],
      "metadata": {
        "colab": {
          "base_uri": "https://localhost:8080/"
        },
        "id": "_uvmvaSnhLxa",
        "outputId": "cd4c7c32-e8d2-4c7c-d98a-bab006a7691a"
      },
      "execution_count": 2,
      "outputs": [
        {
          "output_type": "stream",
          "name": "stdout",
          "text": [
            "\n",
            "Missing Values in Each Column:\n",
            "id                                    0\n",
            "name                                 16\n",
            "host_id                               0\n",
            "host_name                            21\n",
            "neighbourhood_group                   0\n",
            "neighbourhood                         0\n",
            "latitude                              0\n",
            "longitude                             0\n",
            "room_type                             0\n",
            "price                                 0\n",
            "minimum_nights                        0\n",
            "number_of_reviews                     0\n",
            "last_review                       10052\n",
            "reviews_per_month                 10052\n",
            "calculated_host_listings_count        0\n",
            "availability_365                      0\n",
            "dtype: int64\n",
            "\n",
            "Missing Values After Handling:\n",
            "id                                 0\n",
            "name                              16\n",
            "host_id                            0\n",
            "host_name                         21\n",
            "neighbourhood_group                0\n",
            "neighbourhood                      0\n",
            "latitude                           0\n",
            "longitude                          0\n",
            "room_type                          0\n",
            "price                              0\n",
            "minimum_nights                     0\n",
            "number_of_reviews                  0\n",
            "calculated_host_listings_count     0\n",
            "availability_365                   0\n",
            "dtype: int64\n"
          ]
        }
      ]
    },
    {
      "cell_type": "markdown",
      "source": [
        "Remove Duplicate Records"
      ],
      "metadata": {
        "id": "uROC73SMhjcb"
      }
    },
    {
      "cell_type": "code",
      "source": [
        "# Identify and remove duplicate rows\n",
        "print(\"\\nNumber of Duplicate Rows Before Removal:\", df.duplicated().sum())\n",
        "\n",
        "# Drop duplicates\n",
        "df.drop_duplicates(inplace=True)\n",
        "\n",
        "# Verify duplicates are removed\n",
        "print(\"Number of Duplicate Rows After Removal:\", df.duplicated().sum())"
      ],
      "metadata": {
        "colab": {
          "base_uri": "https://localhost:8080/"
        },
        "id": "J8BZsOovhawL",
        "outputId": "692bcaa6-579f-4b23-e5df-84170d45510b"
      },
      "execution_count": 3,
      "outputs": [
        {
          "output_type": "stream",
          "name": "stdout",
          "text": [
            "\n",
            "Number of Duplicate Rows Before Removal: 0\n",
            "Number of Duplicate Rows After Removal: 0\n"
          ]
        }
      ]
    },
    {
      "cell_type": "markdown",
      "source": [
        "Standardize Data Formatting"
      ],
      "metadata": {
        "id": "OJ84CJW_h1dr"
      }
    },
    {
      "cell_type": "code",
      "source": [
        "# Convert categorical columns to consistent string formatting\n",
        "categorical_columns = ['neighbourhood_group', 'neighbourhood', 'room_type']\n",
        "for col in categorical_columns:\n",
        "    df[col] = df[col].str.strip().str.lower()\n",
        "\n",
        "# Ensure numeric columns have consistent data types\n",
        "df['price'] = df['price'].astype(float)\n",
        "df['minimum_nights'] = df['minimum_nights'].astype(int)\n",
        "\n",
        "# Preview standardized data\n",
        "print(\"\\nStandardized Data Preview:\")\n",
        "print(df.head())"
      ],
      "metadata": {
        "colab": {
          "base_uri": "https://localhost:8080/"
        },
        "id": "prhUny0ghpVq",
        "outputId": "86632fd9-bc4a-4eeb-b782-8bcf8427fce4"
      },
      "execution_count": 4,
      "outputs": [
        {
          "output_type": "stream",
          "name": "stdout",
          "text": [
            "\n",
            "Standardized Data Preview:\n",
            "     id                                              name  host_id  \\\n",
            "0  2539                Clean & quiet apt home by the park     2787   \n",
            "1  2595                             Skylit Midtown Castle     2845   \n",
            "2  3647               THE VILLAGE OF HARLEM....NEW YORK !     4632   \n",
            "3  3831                   Cozy Entire Floor of Brownstone     4869   \n",
            "4  5022  Entire Apt: Spacious Studio/Loft by central park     7192   \n",
            "\n",
            "     host_name neighbourhood_group neighbourhood  latitude  longitude  \\\n",
            "0         John            brooklyn    kensington  40.64749  -73.97237   \n",
            "1     Jennifer           manhattan       midtown  40.75362  -73.98377   \n",
            "2    Elisabeth           manhattan        harlem  40.80902  -73.94190   \n",
            "3  LisaRoxanne            brooklyn  clinton hill  40.68514  -73.95976   \n",
            "4        Laura           manhattan   east harlem  40.79851  -73.94399   \n",
            "\n",
            "         room_type  price  minimum_nights  number_of_reviews  \\\n",
            "0     private room  149.0               1                  9   \n",
            "1  entire home/apt  225.0               1                 45   \n",
            "2     private room  150.0               3                  0   \n",
            "3  entire home/apt   89.0               1                270   \n",
            "4  entire home/apt   80.0              10                  9   \n",
            "\n",
            "   calculated_host_listings_count  availability_365  \n",
            "0                               6               365  \n",
            "1                               2               355  \n",
            "2                               1               365  \n",
            "3                               1               194  \n",
            "4                               1                 0  \n"
          ]
        }
      ]
    },
    {
      "cell_type": "markdown",
      "source": [
        "Detect and Handle Outliers"
      ],
      "metadata": {
        "id": "OstEd4SQiCUM"
      }
    },
    {
      "cell_type": "code",
      "source": [
        "# Visualize outliers using boxplots (optional, requires matplotlib)\n",
        "import matplotlib.pyplot as plt\n",
        "\n",
        "plt.figure(figsize=(10, 6))\n",
        "plt.boxplot(df['price'], vert=False)\n",
        "plt.title('Boxplot of Price')\n",
        "plt.show()\n",
        "\n",
        "# Detect outliers using IQR (Interquartile Range)\n",
        "Q1 = df['price'].quantile(0.25)\n",
        "Q3 = df['price'].quantile(0.75)\n",
        "IQR = Q3 - Q1\n",
        "\n",
        "# Define bounds for outliers\n",
        "lower_bound = Q1 - 1.5 * IQR\n",
        "upper_bound = Q3 + 1.5 * IQR\n",
        "\n",
        "# Filter out rows with outliers in the 'price' column\n",
        "df_cleaned = df[(df['price'] >= lower_bound) & (df['price'] <= upper_bound)]\n",
        "\n",
        "# Compare the shape before and after removing outliers\n",
        "print(\"\\nShape Before Removing Outliers:\", df.shape)\n",
        "print(\"Shape After Removing Outliers:\", df_cleaned.shape)"
      ],
      "metadata": {
        "colab": {
          "base_uri": "https://localhost:8080/",
          "height": 597
        },
        "id": "FcFwGFtnh6nC",
        "outputId": "53e264af-58d6-48d2-8003-310cdfa641ae"
      },
      "execution_count": 5,
      "outputs": [
        {
          "output_type": "display_data",
          "data": {
            "text/plain": [
              "<Figure size 1000x600 with 1 Axes>"
            ],
            "image/png": "[encoded data removed]"
          },
          "metadata": {}
        },
        {
          "output_type": "stream",
          "name": "stdout",
          "text": [
            "\n",
            "Shape Before Removing Outliers: (48895, 14)\n",
            "Shape After Removing Outliers: (45923, 14)\n"
          ]
        }
      ]
    },
    {
      "cell_type": "markdown",
      "source": [
        "Save the Cleaned Dataset"
      ],
      "metadata": {
        "id": "0tv5ykGVkYHS"
      }
    },
    {
      "cell_type": "code",
      "source": [
        "# Save the cleaned dataset to a new CSV file\n",
        "output_path = '/content/drive/MyDrive/AB_NYC_2019_cleaned.csv'\n",
        "df_cleaned.to_csv(output_path, index=False)\n",
        "\n",
        "print(\"\\nCleaned Dataset Saved Successfully!\")"
      ],
      "metadata": {
        "colab": {
          "base_uri": "https://localhost:8080/"
        },
        "id": "Qr-maAw1iQWK",
        "outputId": "f60c3f50-d81c-438c-c73f-f460d59cfa5e"
      },
      "execution_count": 6,
      "outputs": [
        {
          "output_type": "stream",
          "name": "stdout",
          "text": [
            "\n",
            "Cleaned Dataset Saved Successfully!\n"
          ]
        }
      ]
    }
  ]
}